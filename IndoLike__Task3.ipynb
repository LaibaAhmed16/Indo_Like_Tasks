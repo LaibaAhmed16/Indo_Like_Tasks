{
  "nbformat": 4,
  "nbformat_minor": 0,
  "metadata": {
    "colab": {
      "provenance": []
    },
    "kernelspec": {
      "name": "python3",
      "display_name": "Python 3"
    },
    "language_info": {
      "name": "python"
    }
  },
  "cells": [
    {
      "cell_type": "code",
      "execution_count": 3,
      "metadata": {
        "id": "VIOw0QThEQHC"
      },
      "outputs": [],
      "source": [
        "# Import required libraries\n",
        "import pandas as pd\n",
        "import numpy as np\n",
        "import matplotlib.pyplot as plt\n",
        "import seaborn as sns\n",
        "from sklearn.feature_extraction.text import TfidfVectorizer\n",
        "from sklearn.cluster import KMeans"
      ]
    },
    {
      "cell_type": "code",
      "source": [
        "df = pd.read_csv(\"/content/sample-data.csv\")\n",
        "df.head()"
      ],
      "metadata": {
        "colab": {
          "base_uri": "https://localhost:8080/",
          "height": 206
        },
        "id": "wOyyQNiMHbsi",
        "outputId": "fc01809b-027b-4191-fbf8-069e3e91468b"
      },
      "execution_count": 2,
      "outputs": [
        {
          "output_type": "execute_result",
          "data": {
            "text/plain": [
              "   id                                        description\n",
              "0   1  Active classic boxers - There's a reason why o...\n",
              "1   2  Active sport boxer briefs - Skinning up Glory ...\n",
              "2   3  Active sport briefs - These superbreathable no...\n",
              "3   4  Alpine guide pants - Skin in, climb ice, switc...\n",
              "4   5  Alpine wind jkt - On high ridges, steep ice an..."
            ],
            "text/html": [
              "\n",
              "  <div id=\"df-8b890a22-cbf9-4037-a2dd-4a13c5a16e46\" class=\"colab-df-container\">\n",
              "    <div>\n",
              "<style scoped>\n",
              "    .dataframe tbody tr th:only-of-type {\n",
              "        vertical-align: middle;\n",
              "    }\n",
              "\n",
              "    .dataframe tbody tr th {\n",
              "        vertical-align: top;\n",
              "    }\n",
              "\n",
              "    .dataframe thead th {\n",
              "        text-align: right;\n",
              "    }\n",
              "</style>\n",
              "<table border=\"1\" class=\"dataframe\">\n",
              "  <thead>\n",
              "    <tr style=\"text-align: right;\">\n",
              "      <th></th>\n",
              "      <th>id</th>\n",
              "      <th>description</th>\n",
              "    </tr>\n",
              "  </thead>\n",
              "  <tbody>\n",
              "    <tr>\n",
              "      <th>0</th>\n",
              "      <td>1</td>\n",
              "      <td>Active classic boxers - There's a reason why o...</td>\n",
              "    </tr>\n",
              "    <tr>\n",
              "      <th>1</th>\n",
              "      <td>2</td>\n",
              "      <td>Active sport boxer briefs - Skinning up Glory ...</td>\n",
              "    </tr>\n",
              "    <tr>\n",
              "      <th>2</th>\n",
              "      <td>3</td>\n",
              "      <td>Active sport briefs - These superbreathable no...</td>\n",
              "    </tr>\n",
              "    <tr>\n",
              "      <th>3</th>\n",
              "      <td>4</td>\n",
              "      <td>Alpine guide pants - Skin in, climb ice, switc...</td>\n",
              "    </tr>\n",
              "    <tr>\n",
              "      <th>4</th>\n",
              "      <td>5</td>\n",
              "      <td>Alpine wind jkt - On high ridges, steep ice an...</td>\n",
              "    </tr>\n",
              "  </tbody>\n",
              "</table>\n",
              "</div>\n",
              "    <div class=\"colab-df-buttons\">\n",
              "\n",
              "  <div class=\"colab-df-container\">\n",
              "    <button class=\"colab-df-convert\" onclick=\"convertToInteractive('df-8b890a22-cbf9-4037-a2dd-4a13c5a16e46')\"\n",
              "            title=\"Convert this dataframe to an interactive table.\"\n",
              "            style=\"display:none;\">\n",
              "\n",
              "  <svg xmlns=\"http://www.w3.org/2000/svg\" height=\"24px\" viewBox=\"0 -960 960 960\">\n",
              "    <path d=\"M120-120v-720h720v720H120Zm60-500h600v-160H180v160Zm220 220h160v-160H400v160Zm0 220h160v-160H400v160ZM180-400h160v-160H180v160Zm440 0h160v-160H620v160ZM180-180h160v-160H180v160Zm440 0h160v-160H620v160Z\"/>\n",
              "  </svg>\n",
              "    </button>\n",
              "\n",
              "  <style>\n",
              "    .colab-df-container {\n",
              "      display:flex;\n",
              "      gap: 12px;\n",
              "    }\n",
              "\n",
              "    .colab-df-convert {\n",
              "      background-color: #E8F0FE;\n",
              "      border: none;\n",
              "      border-radius: 50%;\n",
              "      cursor: pointer;\n",
              "      display: none;\n",
              "      fill: #1967D2;\n",
              "      height: 32px;\n",
              "      padding: 0 0 0 0;\n",
              "      width: 32px;\n",
              "    }\n",
              "\n",
              "    .colab-df-convert:hover {\n",
              "      background-color: #E2EBFA;\n",
              "      box-shadow: 0px 1px 2px rgba(60, 64, 67, 0.3), 0px 1px 3px 1px rgba(60, 64, 67, 0.15);\n",
              "      fill: #174EA6;\n",
              "    }\n",
              "\n",
              "    .colab-df-buttons div {\n",
              "      margin-bottom: 4px;\n",
              "    }\n",
              "\n",
              "    [theme=dark] .colab-df-convert {\n",
              "      background-color: #3B4455;\n",
              "      fill: #D2E3FC;\n",
              "    }\n",
              "\n",
              "    [theme=dark] .colab-df-convert:hover {\n",
              "      background-color: #434B5C;\n",
              "      box-shadow: 0px 1px 3px 1px rgba(0, 0, 0, 0.15);\n",
              "      filter: drop-shadow(0px 1px 2px rgba(0, 0, 0, 0.3));\n",
              "      fill: #FFFFFF;\n",
              "    }\n",
              "  </style>\n",
              "\n",
              "    <script>\n",
              "      const buttonEl =\n",
              "        document.querySelector('#df-8b890a22-cbf9-4037-a2dd-4a13c5a16e46 button.colab-df-convert');\n",
              "      buttonEl.style.display =\n",
              "        google.colab.kernel.accessAllowed ? 'block' : 'none';\n",
              "\n",
              "      async function convertToInteractive(key) {\n",
              "        const element = document.querySelector('#df-8b890a22-cbf9-4037-a2dd-4a13c5a16e46');\n",
              "        const dataTable =\n",
              "          await google.colab.kernel.invokeFunction('convertToInteractive',\n",
              "                                                    [key], {});\n",
              "        if (!dataTable) return;\n",
              "\n",
              "        const docLinkHtml = 'Like what you see? Visit the ' +\n",
              "          '<a target=\"_blank\" href=https://colab.research.google.com/notebooks/data_table.ipynb>data table notebook</a>'\n",
              "          + ' to learn more about interactive tables.';\n",
              "        element.innerHTML = '';\n",
              "        dataTable['output_type'] = 'display_data';\n",
              "        await google.colab.output.renderOutput(dataTable, element);\n",
              "        const docLink = document.createElement('div');\n",
              "        docLink.innerHTML = docLinkHtml;\n",
              "        element.appendChild(docLink);\n",
              "      }\n",
              "    </script>\n",
              "  </div>\n",
              "\n",
              "\n",
              "<div id=\"df-47963d5a-924a-4a1f-a6a1-e78309bbb72d\">\n",
              "  <button class=\"colab-df-quickchart\" onclick=\"quickchart('df-47963d5a-924a-4a1f-a6a1-e78309bbb72d')\"\n",
              "            title=\"Suggest charts\"\n",
              "            style=\"display:none;\">\n",
              "\n",
              "<svg xmlns=\"http://www.w3.org/2000/svg\" height=\"24px\"viewBox=\"0 0 24 24\"\n",
              "     width=\"24px\">\n",
              "    <g>\n",
              "        <path d=\"M19 3H5c-1.1 0-2 .9-2 2v14c0 1.1.9 2 2 2h14c1.1 0 2-.9 2-2V5c0-1.1-.9-2-2-2zM9 17H7v-7h2v7zm4 0h-2V7h2v10zm4 0h-2v-4h2v4z\"/>\n",
              "    </g>\n",
              "</svg>\n",
              "  </button>\n",
              "\n",
              "<style>\n",
              "  .colab-df-quickchart {\n",
              "      --bg-color: #E8F0FE;\n",
              "      --fill-color: #1967D2;\n",
              "      --hover-bg-color: #E2EBFA;\n",
              "      --hover-fill-color: #174EA6;\n",
              "      --disabled-fill-color: #AAA;\n",
              "      --disabled-bg-color: #DDD;\n",
              "  }\n",
              "\n",
              "  [theme=dark] .colab-df-quickchart {\n",
              "      --bg-color: #3B4455;\n",
              "      --fill-color: #D2E3FC;\n",
              "      --hover-bg-color: #434B5C;\n",
              "      --hover-fill-color: #FFFFFF;\n",
              "      --disabled-bg-color: #3B4455;\n",
              "      --disabled-fill-color: #666;\n",
              "  }\n",
              "\n",
              "  .colab-df-quickchart {\n",
              "    background-color: var(--bg-color);\n",
              "    border: none;\n",
              "    border-radius: 50%;\n",
              "    cursor: pointer;\n",
              "    display: none;\n",
              "    fill: var(--fill-color);\n",
              "    height: 32px;\n",
              "    padding: 0;\n",
              "    width: 32px;\n",
              "  }\n",
              "\n",
              "  .colab-df-quickchart:hover {\n",
              "    background-color: var(--hover-bg-color);\n",
              "    box-shadow: 0 1px 2px rgba(60, 64, 67, 0.3), 0 1px 3px 1px rgba(60, 64, 67, 0.15);\n",
              "    fill: var(--button-hover-fill-color);\n",
              "  }\n",
              "\n",
              "  .colab-df-quickchart-complete:disabled,\n",
              "  .colab-df-quickchart-complete:disabled:hover {\n",
              "    background-color: var(--disabled-bg-color);\n",
              "    fill: var(--disabled-fill-color);\n",
              "    box-shadow: none;\n",
              "  }\n",
              "\n",
              "  .colab-df-spinner {\n",
              "    border: 2px solid var(--fill-color);\n",
              "    border-color: transparent;\n",
              "    border-bottom-color: var(--fill-color);\n",
              "    animation:\n",
              "      spin 1s steps(1) infinite;\n",
              "  }\n",
              "\n",
              "  @keyframes spin {\n",
              "    0% {\n",
              "      border-color: transparent;\n",
              "      border-bottom-color: var(--fill-color);\n",
              "      border-left-color: var(--fill-color);\n",
              "    }\n",
              "    20% {\n",
              "      border-color: transparent;\n",
              "      border-left-color: var(--fill-color);\n",
              "      border-top-color: var(--fill-color);\n",
              "    }\n",
              "    30% {\n",
              "      border-color: transparent;\n",
              "      border-left-color: var(--fill-color);\n",
              "      border-top-color: var(--fill-color);\n",
              "      border-right-color: var(--fill-color);\n",
              "    }\n",
              "    40% {\n",
              "      border-color: transparent;\n",
              "      border-right-color: var(--fill-color);\n",
              "      border-top-color: var(--fill-color);\n",
              "    }\n",
              "    60% {\n",
              "      border-color: transparent;\n",
              "      border-right-color: var(--fill-color);\n",
              "    }\n",
              "    80% {\n",
              "      border-color: transparent;\n",
              "      border-right-color: var(--fill-color);\n",
              "      border-bottom-color: var(--fill-color);\n",
              "    }\n",
              "    90% {\n",
              "      border-color: transparent;\n",
              "      border-bottom-color: var(--fill-color);\n",
              "    }\n",
              "  }\n",
              "</style>\n",
              "\n",
              "  <script>\n",
              "    async function quickchart(key) {\n",
              "      const quickchartButtonEl =\n",
              "        document.querySelector('#' + key + ' button');\n",
              "      quickchartButtonEl.disabled = true;  // To prevent multiple clicks.\n",
              "      quickchartButtonEl.classList.add('colab-df-spinner');\n",
              "      try {\n",
              "        const charts = await google.colab.kernel.invokeFunction(\n",
              "            'suggestCharts', [key], {});\n",
              "      } catch (error) {\n",
              "        console.error('Error during call to suggestCharts:', error);\n",
              "      }\n",
              "      quickchartButtonEl.classList.remove('colab-df-spinner');\n",
              "      quickchartButtonEl.classList.add('colab-df-quickchart-complete');\n",
              "    }\n",
              "    (() => {\n",
              "      let quickchartButtonEl =\n",
              "        document.querySelector('#df-47963d5a-924a-4a1f-a6a1-e78309bbb72d button');\n",
              "      quickchartButtonEl.style.display =\n",
              "        google.colab.kernel.accessAllowed ? 'block' : 'none';\n",
              "    })();\n",
              "  </script>\n",
              "</div>\n",
              "\n",
              "    </div>\n",
              "  </div>\n"
            ],
            "application/vnd.google.colaboratory.intrinsic+json": {
              "type": "dataframe",
              "variable_name": "df",
              "summary": "{\n  \"name\": \"df\",\n  \"rows\": 500,\n  \"fields\": [\n    {\n      \"column\": \"id\",\n      \"properties\": {\n        \"dtype\": \"number\",\n        \"std\": 144,\n        \"min\": 1,\n        \"max\": 500,\n        \"num_unique_values\": 500,\n        \"samples\": [\n          362,\n          74,\n          375\n        ],\n        \"semantic_type\": \"\",\n        \"description\": \"\"\n      }\n    },\n    {\n      \"column\": \"description\",\n      \"properties\": {\n        \"dtype\": \"string\",\n        \"num_unique_values\": 500,\n        \"samples\": [\n          \"S/s sol patrol shirt - In theory, chasing Indonesian surf and bonefish for weeks on end is like going to heaven; in practice, it's really damn hot. To make sure you're covered, we've travel-tested the Short-Sleeved Sol Patrol Shirt for function-forward UV protection in sweltering spots the world over. The 2.4-oz 100% polyester ripstop fabric and side air vents are receptive to any breeze providing comfort and hardcore 30-UPF sun protection in a wide array of circumstances. Recyclable through the Common Threads Recycling Program.<br><br><b>Details:</b><ul> <li>\\\"Lightweight, quick-drying polyester\\\"</li> <li>Provides 30-UPF sun protection</li> <li>Double-layer collar converts to stand-up collar for extra sun protection</li> <li>Collar stays put and crisp thanks to hidden snaps at collar points</li> <li>Cooling mesh center back vent and side-arm vents facilitate flow-through ventilation</li> <li>Mesh-lined button-through chest pockets; inset zippered pocket at right</li></ul><br><br><b>Fabric: </b>2.4-oz 100% polyester ripstop with 30-UPF sun protection. Recyclable through the Common Threads Recycling Program<br><br><b>Weight: </b>(216 g 7.5 oz)<br><br>Made in Vietnam.\",\n          \"Logo hat - Your unflappable road-tripping companion - this 100% organic cotton hat disguises bed head, cuts glare when you're checking surf, and pulls chinward for an afternoon siesta. The go-anywhere design has a precurved brim, a rear elastic strap with nylon webbing for adjustability and a moisture-wicking headband for comfort. The low profile ensures a reliable bond during rogue gusts.<br><br><b>Details:</b><ul> <li>\\\"Comfortable, 100% organic cotton fabric holds its shape\\\"</li> <li>Shapeable brim shades face and reduces glare</li> <li>Rear webbing strap with adjustable buckle</li> <li>Moisture-wicking headband</li></ul><br><br><b>Fabric: </b>5.2-oz 100% organic cotton canvas<br><br><b>Weight: </b>(77 g 2.7 oz)<br><br>Made in China.\",\n          \"Pique vitaliti polo shirt - The perfect summer fabric to keep your back from sticking to the seat. The pique polo's forward-thinking blend of 6.5-oz 70% organic cotton and 30% all-recycled polyester also wicks moisture during long walks beneath the Flatirons, highball V4s at Flagstaff and hardcore sodbusting sessions in your own back yard.<br><br><b>Details:</b><ul> <li>\\\"Lightweight, quick-to dry organic cotton/recycled polyester fabric in a piqu? knit\\\"</li> <li>Hidden snap-front placket</li> <li>Side vents</li></ul><br><br><b>Fabric: </b>6.5-oz 70% organic cotton/30% all-recycled polyester piqu??. Recyclable through the Common Threads Recycling Program<br><br><b>Weight: </b>(262 g 9.1 oz)<br><br>Made in Thailand.\"\n        ],\n        \"semantic_type\": \"\",\n        \"description\": \"\"\n      }\n    }\n  ]\n}"
            }
          },
          "metadata": {},
          "execution_count": 2
        }
      ]
    },
    {
      "cell_type": "code",
      "source": [
        "# Check for missing values\n",
        "print(df.isnull().sum())\n",
        "\n",
        "# Drop missing values if any\n",
        "df.dropna(inplace=True)\n"
      ],
      "metadata": {
        "colab": {
          "base_uri": "https://localhost:8080/"
        },
        "id": "4g_NoDe_Hwz2",
        "outputId": "07e29196-662a-4f82-cfb6-25ad06c3cbb7"
      },
      "execution_count": 4,
      "outputs": [
        {
          "output_type": "stream",
          "name": "stdout",
          "text": [
            "id             0\n",
            "description    0\n",
            "dtype: int64\n"
          ]
        }
      ]
    },
    {
      "cell_type": "code",
      "source": [
        "# Convert text descriptions to numerical features using TF-IDF\n",
        "vectorizer = TfidfVectorizer(stop_words=\"english\")\n",
        "X = vectorizer.fit_transform(df[\"description\"])"
      ],
      "metadata": {
        "id": "Kl5XThXWH1ZK"
      },
      "execution_count": 5,
      "outputs": []
    },
    {
      "cell_type": "code",
      "source": [
        "# Find the optimal number of clusters using the Elbow Method\n",
        "inertia = []\n",
        "for k in range(1, 11):\n",
        "    kmeans = KMeans(n_clusters=k, random_state=42, n_init=10)\n",
        "    kmeans.fit(X)\n",
        "    inertia.append(kmeans.inertia_)\n",
        "\n",
        "# Plot the Elbow Curve\n",
        "plt.figure(figsize=(8, 5))\n",
        "plt.plot(range(1, 11), inertia, marker='o', linestyle='--')\n",
        "plt.xlabel(\"Number of Clusters\")\n",
        "plt.ylabel(\"Inertia\")\n",
        "plt.title(\"Elbow Method for Optimal k\")\n",
        "plt.show()\n",
        "\n"
      ],
      "metadata": {
        "colab": {
          "base_uri": "https://localhost:8080/",
          "height": 487
        },
        "id": "Pd_PweCJH740",
        "outputId": "dafccd11-d145-4155-a1e6-2994af2bf4c3"
      },
      "execution_count": 6,
      "outputs": [
        {
          "output_type": "display_data",
          "data": {
            "text/plain": [
              "<Figure size 800x500 with 1 Axes>"
            ],
            "image/png": "[encoded data removed]"
          },
          "metadata": {}
        }
      ]
    },
    {
      "cell_type": "code",
      "source": [
        "# Choose the best k (e.g., k=4) and apply K-Means\n",
        "kmeans = KMeans(n_clusters=4, random_state=42, n_init=10)\n",
        "df[\"Cluster\"] = kmeans.fit_predict(X)\n",
        "\n",
        "# Display clusters\n",
        "print(df[[\"id\", \"description\", \"Cluster\"]])\n",
        "\n",
        "# Save clustered data\n",
        "df.to_csv(\"clustered_products.csv\", index=False)\n",
        "\n",
        "print(\"Product clustering completed! 🚀\")"
      ],
      "metadata": {
        "colab": {
          "base_uri": "https://localhost:8080/"
        },
        "id": "xRuEj-07H__E",
        "outputId": "5780a75d-93e7-416b-a8ea-efaed2f299a0"
      },
      "execution_count": 7,
      "outputs": [
        {
          "output_type": "stream",
          "name": "stdout",
          "text": [
            "      id                                        description  Cluster\n",
            "0      1  Active classic boxers - There's a reason why o...        0\n",
            "1      2  Active sport boxer briefs - Skinning up Glory ...        2\n",
            "2      3  Active sport briefs - These superbreathable no...        2\n",
            "3      4  Alpine guide pants - Skin in, climb ice, switc...        1\n",
            "4      5  Alpine wind jkt - On high ridges, steep ice an...        1\n",
            "..   ...                                                ...      ...\n",
            "495  496  Cap 2 bottoms - Cut loose from the maddening c...        0\n",
            "496  497  Cap 2 crew - This crew takes the edge off fick...        0\n",
            "497  498  All-time shell - No need to use that morning T...        1\n",
            "498  499  All-wear cargo shorts - All-Wear Cargo Shorts ...        2\n",
            "499  500  All-wear shorts - Time to simplify? Our All-We...        2\n",
            "\n",
            "[500 rows x 3 columns]\n",
            "Product clustering completed! 🚀\n"
          ]
        }
      ]
    },
    {
      "cell_type": "code",
      "source": [
        "print(df[\"Cluster\"].value_counts())\n"
      ],
      "metadata": {
        "colab": {
          "base_uri": "https://localhost:8080/"
        },
        "id": "orBDT9SvIJFS",
        "outputId": "224e51f9-ee76-4056-cb9e-90fe1d68a19b"
      },
      "execution_count": 8,
      "outputs": [
        {
          "output_type": "stream",
          "name": "stdout",
          "text": [
            "Cluster\n",
            "2    244\n",
            "1    132\n",
            "0     63\n",
            "3     61\n",
            "Name: count, dtype: int64\n"
          ]
        }
      ]
    },
    {
      "cell_type": "code",
      "source": [
        "for cluster in df[\"Cluster\"].unique():\n",
        "    print(f\"\\nCluster {cluster}:\")\n",
        "    print(df[df[\"Cluster\"] == cluster][\"description\"].head(5))  # Show first 5 products\n"
      ],
      "metadata": {
        "colab": {
          "base_uri": "https://localhost:8080/"
        },
        "id": "S-Z_0RP2IOu0",
        "outputId": "1c35d5e8-854d-4ada-9b89-3e4845cc3d1b"
      },
      "execution_count": 9,
      "outputs": [
        {
          "output_type": "stream",
          "name": "stdout",
          "text": [
            "\n",
            "Cluster 0:\n",
            "0     Active classic boxers - There's a reason why o...\n",
            "17    Cap 1 bottoms - Spring skiing is as transient ...\n",
            "18    Cap 1 boxer briefs - On bivy or belay, the for...\n",
            "19    Cap 1 graphic t-shirt - This tee is made from ...\n",
            "20    Cap 1 t-shirt - Minimally styled but technical...\n",
            "Name: description, dtype: object\n",
            "\n",
            "Cluster 2:\n",
            "1     Active sport boxer briefs - Skinning up Glory ...\n",
            "2     Active sport briefs - These superbreathable no...\n",
            "7     Print banded betina btm - Our fullest coverage...\n",
            "10    Baby sunshade top - Soft, stretchy polyester f...\n",
            "11    Baggies shorts - Even Baggies, our most popula...\n",
            "Name: description, dtype: object\n",
            "\n",
            "Cluster 1:\n",
            "3    Alpine guide pants - Skin in, climb ice, switc...\n",
            "4    Alpine wind jkt - On high ridges, steep ice an...\n",
            "5    Ascensionist jkt - Our most technical soft she...\n",
            "6    Atom - A multitasker's cloud nine, the Atom pl...\n",
            "8    Baby micro d-luxe cardigan - Micro D-Luxe is a...\n",
            "Name: description, dtype: object\n",
            "\n",
            "Cluster 3:\n",
            "25    City by the sea t-shirt - Illustrating the ren...\n",
            "35    Dragoons t-shirt - These dragoons have dropped...\n",
            "40    Fish frenzy t-shirt - Dependent on free-flowin...\n",
            "55    Iceberg t-shirt - The effects of global warmin...\n",
            "57    '73 logo t-shirt - Soft-wearing ringspun organ...\n",
            "Name: description, dtype: object\n"
          ]
        }
      ]
    }
  ]
}