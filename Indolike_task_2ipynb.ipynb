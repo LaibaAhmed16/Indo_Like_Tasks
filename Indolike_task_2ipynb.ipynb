{
  "cells": [
    {
      "cell_type": "code",
      "execution_count": null,
      "metadata": {
        "id": "Z8OGYm2Ixzcm"
      },
      "outputs": [],
      "source": [
        "import pandas as pd\n",
        "\n",
        "# Load the dataset\n",
        "data = pd.read_csv('/content/thriller.csv')\n"
      ]
    },
    {
      "cell_type": "code",
      "execution_count": null,
      "metadata": {
        "colab": {
          "background_save": true,
          "base_uri": "https://localhost:8080/"
        },
        "id": "qqOHlgshRGp_",
        "outputId": "288ac206-57ec-4c1a-96e3-c95590357350"
      },
      "outputs": [
        {
          "name": "stdout",
          "output_type": "stream",
          "text": [
            "Dataset Loaded. Columns: Index(['movie_id', 'movie_name', 'year', 'certificate', 'runtime', 'genre',\n",
            "       'rating', 'description', 'director', 'director_id', 'star', 'star_id',\n",
            "       'votes', 'gross(in $)'],\n",
            "      dtype='object')\n",
            "Accuracy: 0.09622411693057248\n",
            "Classification Report:\n",
            "              precision    recall  f1-score   support\n",
            "\n",
            "      Action       0.00      0.00      0.00        55\n",
            "   Adventure       0.67      0.01      0.01       331\n",
            "   Animation       0.00      0.00      0.00         0\n",
            "   Biography       0.00      0.00      0.00        14\n",
            "      Comedy       0.00      0.00      0.00       212\n",
            "       Crime       0.50      0.01      0.02       912\n",
            "       Drama       0.63      0.01      0.02      1842\n",
            "      Family       0.00      0.00      0.00        54\n",
            "     Fantasy       0.50      0.00      0.01       230\n",
            "   Film-Noir       0.00      0.00      0.00        79\n",
            "     History       0.00      0.00      0.00        73\n",
            "      Horror       1.00      0.00      0.00       968\n",
            "       Music       1.00      0.03      0.06        32\n",
            "     Musical       0.00      0.00      0.00        26\n",
            "     Mystery       0.33      0.00      0.00      1209\n",
            "        News       0.00      0.00      0.00         0\n",
            "  Reality-TV       0.00      0.00      0.00         0\n",
            "     Romance       1.00      0.00      0.01       398\n",
            "      Sci-Fi       0.62      0.01      0.02       419\n",
            "       Sport       0.00      0.00      0.00        13\n",
            "    Thriller       0.57      0.69      0.62      5758\n",
            "         War       0.00      0.00      0.00        44\n",
            "     Western       0.00      0.00      0.00        33\n",
            "      Action       0.65      0.14      0.24      2065\n",
            "   Adventure       0.00      0.00      0.00       212\n",
            "   Animation       0.00      0.00      0.00        60\n",
            "   Biography       0.00      0.00      0.00        49\n",
            "      Comedy       1.00      0.01      0.01       471\n",
            "       Crime       0.65      0.01      0.02      1352\n",
            "       Drama       0.32      0.01      0.01      1867\n",
            "      Family       0.00      0.00      0.00         7\n",
            "     Fantasy       0.00      0.00      0.00       117\n",
            "   Film-Noir       0.00      0.00      0.00         4\n",
            "     History       0.00      0.00      0.00        13\n",
            "      Horror       0.36      0.04      0.06      1071\n",
            "       Music       0.00      0.00      0.00         3\n",
            "     Musical       0.00      0.00      0.00         5\n",
            "     Mystery       0.00      0.00      0.00       219\n",
            "     Romance       0.00      0.00      0.00        62\n",
            "      Sci-Fi       0.00      0.00      0.00       117\n",
            "       Short       0.00      0.00      0.00         0\n",
            "       Sport       0.00      0.00      0.00         1\n",
            "    Thriller       0.50      0.31      0.39      2975\n",
            "         War       0.00      0.00      0.00         1\n",
            "     Western       0.00      0.00      0.00         2\n",
            "\n",
            "   micro avg       0.56      0.23      0.32     23375\n",
            "   macro avg       0.23      0.03      0.03     23375\n",
            "weighted avg       0.53      0.23      0.23     23375\n",
            " samples avg       0.46      0.25      0.31     23375\n",
            "\n"
          ]
        },
        {
          "name": "stderr",
          "output_type": "stream",
          "text": [
            "/usr/local/lib/python3.11/dist-packages/sklearn/metrics/_classification.py:1565: UndefinedMetricWarning: Precision is ill-defined and being set to 0.0 in labels with no predicted samples. Use `zero_division` parameter to control this behavior.\n",
            "  _warn_prf(average, modifier, f\"{metric.capitalize()} is\", len(result))\n",
            "/usr/local/lib/python3.11/dist-packages/sklearn/metrics/_classification.py:1565: UndefinedMetricWarning: Recall is ill-defined and being set to 0.0 in labels with no true samples. Use `zero_division` parameter to control this behavior.\n",
            "  _warn_prf(average, modifier, f\"{metric.capitalize()} is\", len(result))\n",
            "/usr/local/lib/python3.11/dist-packages/sklearn/metrics/_classification.py:1565: UndefinedMetricWarning: F-score is ill-defined and being set to 0.0 in labels with no true nor predicted samples. Use `zero_division` parameter to control this behavior.\n",
            "  _warn_prf(average, modifier, f\"{metric.capitalize()} is\", len(result))\n",
            "/usr/local/lib/python3.11/dist-packages/sklearn/metrics/_classification.py:1565: UndefinedMetricWarning: Precision is ill-defined and being set to 0.0 in samples with no predicted labels. Use `zero_division` parameter to control this behavior.\n",
            "  _warn_prf(average, modifier, f\"{metric.capitalize()} is\", len(result))\n"
          ]
        }
      ],
      "source": [
        "import pandas as pd\n",
        "import numpy as np\n",
        "from sklearn.feature_extraction.text import TfidfVectorizer\n",
        "from sklearn.preprocessing import MultiLabelBinarizer\n",
        "from sklearn.model_selection import train_test_split\n",
        "from sklearn.ensemble import RandomForestClassifier\n",
        "from sklearn.metrics import accuracy_score, classification_report\n",
        "\n",
        "# Load dataset\n",
        "df = pd.read_csv(\"/content/thriller.csv\")\n",
        "print(\"Dataset Loaded. Columns:\", df.columns)\n",
        "\n",
        "# Check if 'description' and 'genre' columns exist\n",
        "if 'description' not in df.columns or 'genre' not in df.columns:\n",
        "    raise ValueError(\"Dataset must have 'description' and 'genre' columns\")\n",
        "\n",
        "# Handle missing values\n",
        "df = df.dropna(subset=['description', 'genre'])\n",
        "\n",
        "# Convert genres to a list (assuming they are comma-separated)\n",
        "df['genre'] = df['genre'].apply(lambda x: x.split(','))\n",
        "\n",
        "# Convert text data into numerical format using TF-IDF\n",
        "vectorizer = TfidfVectorizer(max_features=5000, stop_words='english')\n",
        "X = vectorizer.fit_transform(df['description']).toarray()\n",
        "\n",
        "# Encode genres using MultiLabelBinarizer\n",
        "mlb = MultiLabelBinarizer()\n",
        "y = mlb.fit_transform(df['genre'])\n",
        "\n",
        "# Split dataset\n",
        "X_train, X_test, y_train, y_test = train_test_split(X, y, test_size=0.2, random_state=42)\n",
        "\n",
        "# Train a RandomForestClassifier\n",
        "clf = RandomForestClassifier(n_estimators=100, random_state=42)\n",
        "clf.fit(X_train, y_train)\n",
        "\n",
        "# Make predictions\n",
        "y_pred = clf.predict(X_test)\n",
        "\n",
        "# Evaluate model\n",
        "print(\"Accuracy:\", accuracy_score(y_test, y_pred))\n",
        "print(\"Classification Report:\")\n",
        "print(classification_report(y_test, y_pred, target_names=mlb.classes_))\n"
      ]
    },
    {
      "cell_type": "code",
      "execution_count": null,
      "metadata": {
        "colab": {
          "base_uri": "https://localhost:8080/"
        },
        "id": "dLdEJm-uXz5C",
        "outputId": "aa7828ac-17b5-4513-9c43-b961ef20cc1b"
      },
      "outputs": [
        {
          "name": "stdout",
          "output_type": "stream",
          "text": [
            "Description: A group of friends discover an ancient curse in an abandoned mansion.\n",
            "Predicted Genres: (' Action', ' Thriller', 'Adventure')\n",
            "\n",
            "Description: A hacker fights against a corrupt government agency.\n",
            "Predicted Genres: (' Thriller', 'Action', 'Adventure')\n",
            "\n",
            "Description: The people of Wakanda fight to protect their home from intervening world powers as they mourn the de...\n",
            "Predicted Genres: (' Drama', 'Action', 'Animation')\n",
            "\n",
            "Description: While vacationing, a girl and her parents are taken hostage by armed strangers who demand that the f...\n",
            "Predicted Genres: (' Action', ' Thriller', 'Adventure')\n",
            "\n",
            "Description: Dom Toretto and his family are targeted by the vengeful son of drug kingpin Hernan Reyes.\n",
            "Predicted Genres: (' Action', 'Adventure', 'Animation')\n",
            "\n"
          ]
        }
      ],
      "source": [
        "#Test with sample descriptions\n",
        "sample_descriptions = [\n",
        "\n",
        "    \"A group of friends discover an ancient curse in an abandoned mansion.\",\n",
        "    \"A hacker fights against a corrupt government agency.\",\n",
        "    \"The people of Wakanda fight to protect their home from intervening world powers as they mourn the de...\",\n",
        "    \"While vacationing, a girl and her parents are taken hostage by armed strangers who demand that the f...\",\n",
        "    \"Dom Toretto and his family are targeted by the vengeful son of drug kingpin Hernan Reyes.\"\n",
        "]\n",
        "\n",
        "sample_features = vectorizer.transform(sample_descriptions).toarray()\n",
        "sample_predictions = clf.predict(sample_features)\n",
        "\n",
        "# Ensure at least 3 genres are predicted per sample\n",
        "threshold = 3 # Define threshold here\n",
        "sample_pred_adjusted = np.argsort(-sample_predictions, axis=1)[:, :threshold]\n",
        "adjusted_sample_predictions = np.zeros_like(sample_predictions)\n",
        "for i, row in enumerate(sample_pred_adjusted):\n",
        "    adjusted_sample_predictions[i, row] = 1\n",
        "\n",
        "predicted_genres = mlb.inverse_transform(adjusted_sample_predictions)\n",
        "\n",
        "# Display predictions\n",
        "for desc, genres in zip(sample_descriptions, predicted_genres):\n",
        "    print(f\"Description: {desc}\\nPredicted Genres: {genres}\\n\")"
      ]
    }
  ],
  "metadata": {
    "accelerator": "GPU",
    "colab": {
      "gpuType": "T4",
      "provenance": []
    },
    "kernelspec": {
      "display_name": "Python 3",
      "name": "python3"
    },
    "language_info": {
      "name": "python"
    }
  },
  "nbformat": 4,
  "nbformat_minor": 0
}